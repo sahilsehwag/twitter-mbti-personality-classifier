{
 "cells": [
  {
   "cell_type": "markdown",
   "metadata": {},
   "source": [
    "# Setup"
   ]
  },
  {
   "cell_type": "markdown",
   "metadata": {},
   "source": [
    "## Helper Methods"
   ]
  },
  {
   "cell_type": "code",
   "execution_count": 1,
   "metadata": {
    "ExecuteTime": {
     "end_time": "2018-04-05T12:44:56.435308Z",
     "start_time": "2018-04-05T12:44:56.407641Z"
    }
   },
   "outputs": [],
   "source": [
    "#printing on single line\n",
    "def printl(msg):\n",
    "    sys.stdout.write(\"\\r\" + str(msg))\n",
    "    sys.stdout.flush()\n",
    "\n",
    "\n",
    "#pickler\n",
    "def save(filepath, obj):\n",
    "    with open(filepath, 'wb') as file:\n",
    "        pickle.dump(obj, file, pickle.HIGHEST_PROTOCOL)\n",
    "\n",
    "\n",
    "#unpickler\n",
    "def load(filepath):\n",
    "    return pickle.load(filepath)"
   ]
  },
  {
   "cell_type": "markdown",
   "metadata": {},
   "source": [
    "## Imports"
   ]
  },
  {
   "cell_type": "code",
   "execution_count": 1,
   "metadata": {
    "ExecuteTime": {
     "end_time": "2018-04-05T17:15:36.633091Z",
     "start_time": "2018-04-05T17:15:33.270826Z"
    }
   },
   "outputs": [],
   "source": [
    "import sys\n",
    "import re\n",
    "import string\n",
    "import pickle\n",
    "import os\n",
    "\n",
    "import numpy as np\n",
    "import pandas as pd\n",
    "import matplotlib.pyplot as plt\n",
    "\n",
    "from nltk.corpus import stopwords\n",
    "from nltk.stem import WordNetLemmatizer\n",
    "from nltk.stem import PorterStemmer\n",
    "\n",
    "from sklearn.feature_extraction.text import CountVectorizer, TfidfTransformer\n",
    "from sklearn.metrics import confusion_matrix, accuracy_score, classification_report\n",
    "from sklearn.preprocessing import LabelEncoder, OneHotEncoder\n",
    "from sklearn.model_selection import train_test_split, cross_val_score\n",
    "from sklearn.externals import joblib\n",
    "\n",
    "from sklearn.naive_bayes import MultinomialNB\n",
    "from sklearn.ensemble import RandomForestClassifier, ExtraTreesClassifier\n",
    "from sklearn.svm import SVC\n",
    "\n",
    "import tweepy"
   ]
  },
  {
   "cell_type": "markdown",
   "metadata": {},
   "source": [
    "## Loading Dataset"
   ]
  },
  {
   "cell_type": "code",
   "execution_count": 51,
   "metadata": {
    "ExecuteTime": {
     "end_time": "2018-04-05T13:13:45.134194Z",
     "start_time": "2018-04-05T13:13:38.781956Z"
    }
   },
   "outputs": [
    {
     "name": "stdout",
     "output_type": "stream",
     "text": [
      "CPU times: user 5.41 s, sys: 208 ms, total: 5.62 s\n",
      "Wall time: 6.28 s\n"
     ]
    }
   ],
   "source": [
    "%%time\n",
    "df = pd.read_csv('personality-test.csv')\n",
    "df['ie'] = df.type\n",
    "df['ns'] = df.type\n",
    "df['ft'] = df.type\n",
    "df['pj'] = df.type\n",
    "\n",
    "for i, t in enumerate(df.type):\n",
    "    if 'I' in t:\n",
    "        df.ie[i] = 'I'\n",
    "    elif 'E' in t:\n",
    "        df.ie[i] = 'E'\n",
    "        \n",
    "    if 'N' in t:\n",
    "        df.ns[i] = 'N'\n",
    "    elif 'S' in t:\n",
    "        df.ns[i] = 'S'\n",
    "        \n",
    "    if 'F' in t:\n",
    "        df.ft[i] = 'F'\n",
    "    elif 'T' in t:\n",
    "        df.ft[i] = 'T'\n",
    "        \n",
    "    if 'P' in t:\n",
    "        df.pj[i] = 'P'\n",
    "    elif 'J' in t:\n",
    "        df.pj[i] = 'J'\n",
    "\n",
    "\n",
    "posts = df.posts.values\n",
    "yIE = df.ie.values\n",
    "yNS = df.ns.values\n",
    "yFT = df.ft.values\n",
    "yPJ = df.pj.values\n",
    "y = df.type"
   ]
  },
  {
   "cell_type": "markdown",
   "metadata": {},
   "source": [
    "## Preprocessing\n",
    "NOTE: this phase might take some time to execute due to computationaly expensive operations"
   ]
  },
  {
   "cell_type": "code",
   "execution_count": 4,
   "metadata": {
    "ExecuteTime": {
     "end_time": "2018-04-05T12:45:14.000884Z",
     "start_time": "2018-04-05T12:45:13.719630Z"
    }
   },
   "outputs": [],
   "source": [
    "#regular expressions for tokenization\n",
    "regexes = [\n",
    "    #urls\n",
    "    #r'http[s]?://(?:[a-z]|[0-9]|[$-_@.&amp;+]|[!*\\(\\),]|(?:%[0-9a-f][0-9a-f]))+',\n",
    "    \n",
    "    #html\n",
    "    #r'<[^>]+>',\n",
    "    \n",
    "    #punctuation\n",
    "    r'(?:(\\w+)\\'s)',\n",
    "    \n",
    "    r'(?:\\s(\\w+)\\.+\\s)',\n",
    "    r'(?:\\s(\\w+),+\\s)',\n",
    "    r'(?:\\s(\\w+)\\?+\\s)',\n",
    "    r'(?:\\s(\\w+)!+\\s)',\n",
    "    \n",
    "    r'(?:\\'+(\\w+)\\'+)',\n",
    "    r'(?:\"+(\\w+)\"+)',\n",
    "    r'(?:\\[+(\\w+)\\]+)',\n",
    "    r'(?:{+(\\w+)}+)',\n",
    "    r'(?:\\(+(\\w+))',\n",
    "    r'(?:(\\w+)\\)+)',\n",
    "\n",
    "    #words containing numbers & special characters & punctuation\n",
    "    r'(?:(?:(?:[a-zA-Z])*(?:[0-9!\"#$%&\\'()*+,\\-./:;<=>?@\\[\\\\\\]^_`{|}~])+(?:[a-zA-Z])*)+)',\n",
    "    \n",
    "    #pure words\n",
    "    r'([a-zA-Z]+)',\n",
    "    \n",
    "    #numbers\n",
    "    #r'(?:(?:\\d+,?)+(?:\\.?\\d+)?)',\n",
    "\n",
    "    #emoticons\n",
    "    #r\"\"\"(?:[:=;][oO\\-]?[D\\)\\]\\(\\]/\\\\OpP])\"\"\",\n",
    "\n",
    "    #other words\n",
    "    #r'(?:[\\w_]+)',\n",
    "\n",
    "    #anything else\n",
    "    #r'(?:\\S)'\n",
    "]\n",
    "\n",
    "#compiling regular expression\n",
    "regex = re.compile(r'(?:'+'|'.join(regexes)+')', re.VERBOSE | re.IGNORECASE)\n",
    "\n",
    "\n",
    "def preprocess(documents):\n",
    "    lemmatizer = WordNetLemmatizer()\n",
    "    stemmer = PorterStemmer()\n",
    "    \n",
    "    #fetching list of stopwords\n",
    "    punctuation = list(string.punctuation)\n",
    "    swords = stopwords.words('english') + ['amp'] + ['monday', 'tuesday', 'wednesday', 'thursday', 'friday', 'saturday', 'sunday', 'january', 'feburary', 'march', 'april', 'may', 'june', 'july', 'august', 'september', 'october', 'november', 'december',  'mon', 'tue', 'wed', 'thu', 'fri', 'sat', 'sun',  'jan', 'feb', 'mar', 'apr', 'may', 'jun' 'jul', 'aug', 'sep', 'oct', 'nov', 'dec', 'tommorow', 'today', 'yesterday'] + ['mr', 'mrs']\n",
    "\n",
    "\n",
    "    processed_documents = []\n",
    "    for i,document in enumerate(documents):\n",
    "        printl('{0}/{1}'.format(i+1, len(documents)))\n",
    "        \n",
    "        #tokenization\n",
    "        tokens = regex.findall(document)\n",
    "\n",
    "        #skipping useless tokens\n",
    "        t_regex = re.compile(r\"[^a-zA-Z]\")\n",
    "        document = []\n",
    "        \n",
    "        for token in tokens:\n",
    "            token = np.array(token)\n",
    "            token = np.unique(token[token != ''])\n",
    "            \n",
    "            if len(token) > 0:\n",
    "                token = token[0].lower()\n",
    "            else:\n",
    "                continue\n",
    "                \n",
    "            if re.search(t_regex, token) == None and token not in swords:\n",
    "                token = lemmatizer.lemmatize(token)\n",
    "                document.append(token)\n",
    "                \n",
    "        document = ' '.join(document)\n",
    "\n",
    "        #skipping\n",
    "        if len(document) > 0:\n",
    "            processed_documents.append(document)\n",
    "\n",
    "    print()\n",
    "    return np.array(processed_documents)"
   ]
  },
  {
   "cell_type": "code",
   "execution_count": 44,
   "metadata": {
    "ExecuteTime": {
     "end_time": "2018-04-05T13:06:07.503641Z",
     "start_time": "2018-04-05T12:57:06.181949Z"
    }
   },
   "outputs": [
    {
     "name": "stdout",
     "output_type": "stream",
     "text": [
      "8675/8675\n",
      "CPU times: user 6min 42s, sys: 20.8 s, total: 7min 3s\n",
      "Wall time: 9min 1s\n"
     ]
    }
   ],
   "source": [
    "%%time\n",
    "# posts = preprocess(posts)"
   ]
  },
  {
   "cell_type": "markdown",
   "metadata": {},
   "source": [
    "# Processing"
   ]
  },
  {
   "cell_type": "code",
   "execution_count": 53,
   "metadata": {
    "ExecuteTime": {
     "end_time": "2018-04-05T13:14:25.395615Z",
     "start_time": "2018-04-05T13:13:53.879735Z"
    }
   },
   "outputs": [
    {
     "name": "stdout",
     "output_type": "stream",
     "text": [
      "CPU times: user 26.6 s, sys: 696 ms, total: 27.3 s\n",
      "Wall time: 31.5 s\n"
     ]
    }
   ],
   "source": [
    "%%time\n",
    "# creating document frequency matrix\n",
    "cv = CountVectorizer().fit(posts)\n",
    "X = cv.transform(posts)"
   ]
  },
  {
   "cell_type": "markdown",
   "metadata": {},
   "source": [
    "### Splitting Dataset"
   ]
  },
  {
   "cell_type": "code",
   "execution_count": 55,
   "metadata": {
    "ExecuteTime": {
     "end_time": "2018-04-05T13:19:12.673365Z",
     "start_time": "2018-04-05T13:19:12.018628Z"
    }
   },
   "outputs": [],
   "source": [
    "# splitting dataset into training and testing dataset\n",
    "xIETrain, xIETest, yIETrain, yIETest = train_test_split(X, yIE)\n",
    "xNSTrain, xNSTest, yNSTrain, yNSTest = train_test_split(X, yNS)\n",
    "xFTTrain, xFTTest, yFTTrain, yFTTest = train_test_split(X, yFT)\n",
    "xPJTrain, xPJTest, yPJTrain, yPJTest = train_test_split(X, yPJ)\n",
    "xTrain, xTest, yTrain, yTest = train_test_split(X, y)"
   ]
  },
  {
   "cell_type": "markdown",
   "metadata": {},
   "source": [
    "# EDA (Exploratory Data Analysis)"
   ]
  },
  {
   "cell_type": "code",
   "execution_count": 8,
   "metadata": {
    "ExecuteTime": {
     "end_time": "2018-04-05T12:45:51.541874Z",
     "start_time": "2018-04-05T12:45:50.536122Z"
    }
   },
   "outputs": [
    {
     "name": "stdout",
     "output_type": "stream",
     "text": [
      "INFP    1832\n",
      "INFJ    1470\n",
      "INTP    1304\n",
      "INTJ    1091\n",
      "ENTP     685\n",
      "ENFP     675\n",
      "ISTP     337\n",
      "ISFP     271\n",
      "ENTJ     231\n",
      "ISTJ     205\n",
      "ENFJ     190\n",
      "ISFJ     166\n",
      "ESTP      89\n",
      "ESFP      48\n",
      "ESFJ      42\n",
      "ESTJ      39\n",
      "Name: type, dtype: int64\n"
     ]
    },
    {
     "data": {
      "image/png": "[encoded data removed]",
      "text/plain": [
       "<matplotlib.figure.Figure at 0x1a12ec07b8>"
      ]
     },
     "metadata": {},
     "output_type": "display_data"
    }
   ],
   "source": [
    "print(df.type.value_counts())\n",
    "df.type.hist(xrot=90)\n",
    "plt.show()"
   ]
  },
  {
   "cell_type": "code",
   "execution_count": 9,
   "metadata": {
    "ExecuteTime": {
     "end_time": "2018-04-05T12:45:51.591161Z",
     "start_time": "2018-04-05T12:45:51.547336Z"
    }
   },
   "outputs": [
    {
     "name": "stdout",
     "output_type": "stream",
     "text": [
      "I    6676\n",
      "E    1999\n",
      "Name: ie, dtype: int64\n",
      "\n",
      "N    7478\n",
      "S    1197\n",
      "Name: ns, dtype: int64\n",
      "\n",
      "F    4694\n",
      "T    3981\n",
      "Name: ft, dtype: int64\n",
      "\n",
      "P    5241\n",
      "J    3434\n",
      "Name: pj, dtype: int64\n",
      "\n"
     ]
    }
   ],
   "source": [
    "print(df.ie.value_counts(), end='\\n\\n')\n",
    "print(df.ns.value_counts(), end='\\n\\n')\n",
    "print(df.ft.value_counts(), end='\\n\\n')\n",
    "print(df.pj.value_counts(), end='\\n\\n')"
   ]
  },
  {
   "cell_type": "markdown",
   "metadata": {},
   "source": [
    "# Modelling"
   ]
  },
  {
   "cell_type": "markdown",
   "metadata": {},
   "source": [
    "### Training our Models"
   ]
  },
  {
   "cell_type": "code",
   "execution_count": 57,
   "metadata": {
    "ExecuteTime": {
     "end_time": "2018-04-05T13:19:20.499897Z",
     "start_time": "2018-04-05T13:19:19.631191Z"
    }
   },
   "outputs": [
    {
     "name": "stdout",
     "output_type": "stream",
     "text": [
      "CPU times: user 275 ms, sys: 64.4 ms, total: 339 ms\n",
      "Wall time: 389 ms\n",
      "CPU times: user 96.8 ms, sys: 8.91 ms, total: 106 ms\n",
      "Wall time: 115 ms\n",
      "CPU times: user 83.4 ms, sys: 10.6 ms, total: 94 ms\n",
      "Wall time: 101 ms\n",
      "CPU times: user 93.9 ms, sys: 11 ms, total: 105 ms\n",
      "Wall time: 124 ms\n",
      "CPU times: user 97.6 ms, sys: 10.2 ms, total: 108 ms\n",
      "Wall time: 117 ms\n",
      "CPU times: user 656 ms, sys: 107 ms, total: 763 ms\n",
      "Wall time: 860 ms\n"
     ]
    }
   ],
   "source": [
    "%%time\n",
    "%time model = MultinomialNB().fit(xTrain, yTrain)\n",
    "%time ieModel = MultinomialNB().fit(xIETrain, yIETrain)\n",
    "%time nsModel = MultinomialNB().fit(xNSTrain, yNSTrain)\n",
    "%time ftModel = MultinomialNB().fit(xFTTrain, yFTTrain)\n",
    "%time pjModel = MultinomialNB().fit(xPJTrain, yPJTrain)"
   ]
  },
  {
   "cell_type": "markdown",
   "metadata": {},
   "source": [
    "### Testing our Models"
   ]
  },
  {
   "cell_type": "code",
   "execution_count": 58,
   "metadata": {
    "ExecuteTime": {
     "end_time": "2018-04-05T13:19:23.097585Z",
     "start_time": "2018-04-05T13:19:22.935915Z"
    }
   },
   "outputs": [
    {
     "name": "stdout",
     "output_type": "stream",
     "text": [
      "0.358690640848\n",
      "0.785154449055\n",
      "0.849239280775\n",
      "0.796680497925\n",
      "0.716459197787\n"
     ]
    }
   ],
   "source": [
    "print(model.score(xTest, yTest))\n",
    "print(ieModel.score(xIETest, yIETest))\n",
    "print(nsModel.score(xNSTest, yNSTest))\n",
    "print(ftModel.score(xFTTest, yFTTest))\n",
    "print(pjModel.score(xPJTest, yPJTest))"
   ]
  },
  {
   "cell_type": "markdown",
   "metadata": {},
   "source": [
    "### Cross Validation"
   ]
  },
  {
   "cell_type": "code",
   "execution_count": 81,
   "metadata": {
    "ExecuteTime": {
     "end_time": "2018-04-05T16:16:38.996259Z",
     "start_time": "2018-04-05T16:16:26.499522Z"
    }
   },
   "outputs": [
    {
     "name": "stdout",
     "output_type": "stream",
     "text": [
      "0.376724638516\n",
      "0.0118203235415\n",
      "\n",
      "0.783747063909\n",
      "0.0120576364061\n",
      "\n",
      "0.834351376084\n",
      "0.00867280110154\n",
      "\n",
      "0.800807458079\n",
      "0.0123263018287\n",
      "\n",
      "0.727028348914\n",
      "0.012563989255\n",
      "\n"
     ]
    }
   ],
   "source": [
    "accuracies = []\n",
    "\n",
    "accuracies.append(cross_val_score(estimator=model, cv=10, X=X, y=y))\n",
    "accuracies.append(cross_val_score(estimator=ieModel, cv=10, X=X, y=yIE))\n",
    "accuracies.append(cross_val_score(estimator=nsModel, cv=10, X=X, y=yNS))\n",
    "accuracies.append(cross_val_score(estimator=ftModel, cv=10, X=X, y=yFT))\n",
    "accuracies.append(cross_val_score(estimator=pjModel, cv=10, X=X, y=yPJ))\n",
    "\n",
    "print(accuracies[0].mean())\n",
    "print(accuracies[0].std(), end='\\n\\n')\n",
    "print(accuracies[1].mean())\n",
    "print(accuracies[1].std(), end='\\n\\n')\n",
    "print(accuracies[2].mean())\n",
    "print(accuracies[2].std(), end='\\n\\n')\n",
    "print(accuracies[3].mean())\n",
    "print(accuracies[3].std(), end='\\n\\n')\n",
    "print(accuracies[4].mean())\n",
    "print(accuracies[4].std(), end='\\n\\n')"
   ]
  },
  {
   "cell_type": "markdown",
   "metadata": {},
   "source": [
    "### Analysing our Models Results"
   ]
  },
  {
   "cell_type": "code",
   "execution_count": 60,
   "metadata": {
    "ExecuteTime": {
     "end_time": "2018-04-05T13:19:41.986480Z",
     "start_time": "2018-04-05T13:19:41.413641Z"
    }
   },
   "outputs": [
    {
     "name": "stdout",
     "output_type": "stream",
     "text": [
      "INFP    468\n",
      "INFJ    389\n",
      "INTP    328\n",
      "INTJ    285\n",
      "ENTP    176\n",
      "ENFP    161\n",
      "ISTP     76\n",
      "ISFP     74\n",
      "ENTJ     50\n",
      "ISTJ     44\n",
      "ENFJ     43\n",
      "ISFJ     36\n",
      "ESTP     18\n",
      "ESFP      9\n",
      "ESTJ      7\n",
      "ESFJ      5\n",
      "Name: type, dtype: int64\n",
      "\n",
      "INFP    1390\n",
      "INFJ     408\n",
      "INTP     308\n",
      "INTJ      51\n",
      "ENFP       5\n",
      "ENTP       4\n",
      "ISFP       2\n",
      "ISTP       1\n",
      "dtype: int64\n"
     ]
    },
    {
     "data": {
      "image/png": "[encoded data removed]",
      "text/plain": [
       "<matplotlib.figure.Figure at 0x1a1384a860>"
      ]
     },
     "metadata": {},
     "output_type": "display_data"
    }
   ],
   "source": [
    "print(pd.Series(yTest).value_counts(), end='\\n\\n')\n",
    "print(pd.Series(model.predict(xTest)).value_counts())\n",
    "\n",
    "pd.Series(yTest).hist(xrot=90, alpha=0.7)\n",
    "pd.Series(model.predict(xTest)).hist(xrot=90, alpha=0.7)\n",
    "plt.show()"
   ]
  },
  {
   "cell_type": "code",
   "execution_count": 61,
   "metadata": {
    "ExecuteTime": {
     "end_time": "2018-04-05T13:19:45.009655Z",
     "start_time": "2018-04-05T13:19:44.617415Z"
    }
   },
   "outputs": [
    {
     "name": "stdout",
     "output_type": "stream",
     "text": [
      "I    1685\n",
      "E     484\n",
      "dtype: int64\n",
      "\n",
      "I    2051\n",
      "E     118\n",
      "dtype: int64\n"
     ]
    },
    {
     "data": {
      "image/png": "[encoded data removed]",
      "text/plain": [
       "<matplotlib.figure.Figure at 0x10d62c8d0>"
      ]
     },
     "metadata": {},
     "output_type": "display_data"
    }
   ],
   "source": [
    "print(pd.Series(yIETest).value_counts(), end='\\n\\n')\n",
    "print(pd.Series(ieModel.predict(xIETest)).value_counts())\n",
    "\n",
    "pd.Series(yIETest).hist(alpha=0.7)\n",
    "pd.Series(ieModel.predict(xIETest)).hist(alpha=0.7)\n",
    "plt.show()"
   ]
  },
  {
   "cell_type": "code",
   "execution_count": 62,
   "metadata": {
    "ExecuteTime": {
     "end_time": "2018-04-05T13:19:47.528613Z",
     "start_time": "2018-04-05T13:19:47.156402Z"
    }
   },
   "outputs": [
    {
     "name": "stdout",
     "output_type": "stream",
     "text": [
      "N    1874\n",
      "S     295\n",
      "dtype: int64\n",
      "\n",
      "N    2071\n",
      "S      98\n",
      "dtype: int64\n"
     ]
    },
    {
     "data": {
      "image/png": "[encoded data removed]",
      "text/plain": [
       "<matplotlib.figure.Figure at 0x1085231d0>"
      ]
     },
     "metadata": {},
     "output_type": "display_data"
    }
   ],
   "source": [
    "print(pd.Series(yNSTest).value_counts(), end='\\n\\n')\n",
    "print(pd.Series(nsModel.predict(xNSTest)).value_counts())\n",
    "\n",
    "pd.Series(yNSTest).hist(alpha=0.7)\n",
    "pd.Series(nsModel.predict(xNSTest)).hist(alpha=0.7)\n",
    "plt.show()"
   ]
  },
  {
   "cell_type": "code",
   "execution_count": 63,
   "metadata": {
    "ExecuteTime": {
     "end_time": "2018-04-05T13:19:50.363090Z",
     "start_time": "2018-04-05T13:19:49.950548Z"
    }
   },
   "outputs": [
    {
     "name": "stdout",
     "output_type": "stream",
     "text": [
      "F    1194\n",
      "T     975\n",
      "dtype: int64\n",
      "\n",
      "F    1283\n",
      "T     886\n",
      "dtype: int64\n"
     ]
    },
    {
     "data": {
      "image/png": "[encoded data removed]",
      "text/plain": [
       "<matplotlib.figure.Figure at 0x10d54d240>"
      ]
     },
     "metadata": {},
     "output_type": "display_data"
    }
   ],
   "source": [
    "print(pd.Series(yFTTest).value_counts(), end='\\n\\n')\n",
    "print(pd.Series(ftModel.predict(xFTTest)).value_counts())\n",
    "\n",
    "pd.Series(yFTTest).hist(alpha=0.7)\n",
    "pd.Series(ftModel.predict(xFTTest)).hist(alpha=0.7)\n",
    "plt.show()"
   ]
  },
  {
   "cell_type": "code",
   "execution_count": 64,
   "metadata": {
    "ExecuteTime": {
     "end_time": "2018-04-05T13:19:53.172550Z",
     "start_time": "2018-04-05T13:19:52.902360Z"
    }
   },
   "outputs": [
    {
     "name": "stdout",
     "output_type": "stream",
     "text": [
      "P    1311\n",
      "J     858\n",
      "dtype: int64\n",
      "\n",
      "P    1614\n",
      "J     555\n",
      "dtype: int64\n"
     ]
    },
    {
     "data": {
      "image/png": "[encoded data removed]",
      "text/plain": [
       "<matplotlib.figure.Figure at 0x10d4f44e0>"
      ]
     },
     "metadata": {},
     "output_type": "display_data"
    }
   ],
   "source": [
    "print(pd.Series(yPJTest).value_counts(), end='\\n\\n')\n",
    "print(pd.Series(pjModel.predict(xPJTest)).value_counts())\n",
    "\n",
    "pd.Series(yPJTest).hist(alpha=0.7)\n",
    "pd.Series(pjModel.predict(xPJTest)).hist(alpha=0.7)\n",
    "plt.show()"
   ]
  },
  {
   "cell_type": "markdown",
   "metadata": {},
   "source": [
    "### Pickling our Models"
   ]
  },
  {
   "cell_type": "code",
   "execution_count": 82,
   "metadata": {
    "ExecuteTime": {
     "end_time": "2018-04-05T16:18:20.626346Z",
     "start_time": "2018-04-05T16:18:19.962602Z"
    }
   },
   "outputs": [
    {
     "data": {
      "text/plain": [
       "['models.pkl']"
      ]
     },
     "execution_count": 82,
     "metadata": {},
     "output_type": "execute_result"
    }
   ],
   "source": [
    "models = {\n",
    "    'models': [model, ieModel, nsModel, ftModel, pjModel],\n",
    "    'accuracies': accuracies,\n",
    "    'usable': [False, False, False, True, True]\n",
    "}\n",
    "joblib.dump(models, 'models.pkl')"
   ]
  },
  {
   "cell_type": "markdown",
   "metadata": {},
   "source": [
    "# Twitter"
   ]
  },
  {
   "cell_type": "code",
   "execution_count": 2,
   "metadata": {
    "ExecuteTime": {
     "end_time": "2018-04-05T17:15:49.396282Z",
     "start_time": "2018-04-05T17:15:49.385109Z"
    }
   },
   "outputs": [],
   "source": [
    "CONSUMER_KEY        = os.environ['TWITTER_CONSUMER_KEY']\n",
    "CONSUMER_SECRET     = os.environ['TWITTER_CONSUMER_SECRET']\n",
    "ACCESS_TOKEN        = os.environ['TWITTER_ACCESS_TOKEN']\n",
    "ACCESS_TOKEN_SECRET = os.environ['TWITTER_ACCESS_TOKEN_SECRET']\n",
    "\n",
    "AUTH = tweepy.OAuthHandler(CONSUMER_KEY, CONSUMER_SECRET)\n",
    "AUTH.set_access_token(ACCESS_TOKEN, ACCESS_TOKEN_SECRET)\n",
    "\n",
    "api = tweepy.API(AUTH)"
   ]
  },
  {
   "cell_type": "markdown",
   "metadata": {},
   "source": [
    "# Bootstrapping"
   ]
  },
  {
   "cell_type": "markdown",
   "metadata": {},
   "source": [
    "### Fetching Tweets"
   ]
  },
  {
   "cell_type": "code",
   "execution_count": 65,
   "metadata": {
    "ExecuteTime": {
     "end_time": "2018-04-05T13:20:05.118182Z",
     "start_time": "2018-04-05T13:20:01.047956Z"
    }
   },
   "outputs": [],
   "source": [
    "#getting user tweets\n",
    "tweets = api.user_timeline('narendramodi', count=200)\n",
    "tweets = [tweet.text for tweet in tweets]"
   ]
  },
  {
   "cell_type": "markdown",
   "metadata": {},
   "source": [
    "### Procsssing Tweets"
   ]
  },
  {
   "cell_type": "code",
   "execution_count": 69,
   "metadata": {
    "ExecuteTime": {
     "end_time": "2018-04-05T13:20:25.209788Z",
     "start_time": "2018-04-05T13:20:25.191839Z"
    }
   },
   "outputs": [],
   "source": [
    "document = cv.transform([' '.join(tweets)])"
   ]
  },
  {
   "cell_type": "markdown",
   "metadata": {
    "ExecuteTime": {
     "end_time": "2018-04-05T08:10:21.460236Z",
     "start_time": "2018-04-05T08:10:21.455000Z"
    }
   },
   "source": [
    "### Predicting MBTI Personality"
   ]
  },
  {
   "cell_type": "code",
   "execution_count": 80,
   "metadata": {
    "ExecuteTime": {
     "end_time": "2018-04-05T15:35:35.449540Z",
     "start_time": "2018-04-05T15:35:35.418357Z"
    }
   },
   "outputs": [
    {
     "name": "stdout",
     "output_type": "stream",
     "text": [
      "['I']\n",
      "['N']\n",
      "['T']\n",
      "['J']\n"
     ]
    }
   ],
   "source": [
    "print(ieModel.predict(document))\n",
    "print(nsModel.predict(document))\n",
    "print(ftModel.predict(document))\n",
    "print(pjModel.predict(document))"
   ]
  }
 ],
 "metadata": {
  "kernelspec": {
   "display_name": "Python 3",
   "language": "python",
   "name": "python3"
  },
  "language_info": {
   "codemirror_mode": {
    "name": "ipython",
    "version": 3
   },
   "file_extension": ".py",
   "mimetype": "text/x-python",
   "name": "python",
   "nbconvert_exporter": "python",
   "pygments_lexer": "ipython3",
   "version": "3.6.3"
  },
  "notify_time": "5",
  "toc": {
   "nav_menu": {},
   "number_sections": true,
   "sideBar": true,
   "skip_h1_title": false,
   "toc_cell": false,
   "toc_position": {},
   "toc_section_display": "block",
   "toc_window_display": false
  },
  "varInspector": {
   "cols": {
    "lenName": 16,
    "lenType": 16,
    "lenVar": 40
   },
   "kernels_config": {
    "python": {
     "delete_cmd_postfix": "",
     "delete_cmd_prefix": "del ",
     "library": "var_list.py",
     "varRefreshCmd": "print(var_dic_list())"
    },
    "r": {
     "delete_cmd_postfix": ") ",
     "delete_cmd_prefix": "rm(",
     "library": "var_list.r",
     "varRefreshCmd": "cat(var_dic_list()) "
    }
   },
   "position": {
    "height": "433px",
    "left": "1070px",
    "right": "20px",
    "top": "120px",
    "width": "357px"
   },
   "types_to_exclude": [
    "module",
    "function",
    "builtin_function_or_method",
    "instance",
    "_Feature"
   ],
   "window_display": false
  }
 },
 "nbformat": 4,
 "nbformat_minor": 2
}
