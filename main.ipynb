{
 "cells": [
  {
   "cell_type": "markdown",
   "metadata": {},
   "source": [
    "# Introduction\n",
    "This jupyter notebook is accompanied with [MBTI Twitter personality classsification](https://www.github.com/sahilsehwag/twitter-mbti-personality-classifier) project. This notebook is created to easily explore our dataset, perform analysis and perform modelling. To use the final classifier refer to [README.md](https://www.github.com/sahilsehwag/twitter-mbti-personality-classifier) file of this project. Use [main.py](https://github.com/sahilsehwag/twitter-mbti-personality-classifier/blob/master/main.py) to perform personality classification on any twitter user.\n",
    "<br>\n",
    "### Dataset\n",
    "The [dataset](https://github.com/sahilsehwag/twitter-mbti-personality-classifier/blob/master/personality-test.csv) on which this classifier is trained, contains around 50 posts per user about 8000 users with their *MBTI*\n",
    "personality type known. Dataset is provided in the repo itself [personality-test.csv](https://github.com/sahilsehwag/twitter-mbti-personality-classifier/blob/master/personality-test.csv).\n",
    "<br>\n",
    "Few features of dataset are:\n",
    "* Posts of more than 8000 users.\n",
    "* Last 50 posts per user, each entry is separated by '|||'.\n",
    "\n",
    "### Challenges\n",
    "The main challenge with this particular dataset is the imbalance in dataset. The dataset is hugely imbalanced. I have tackled this problem by training a model for each characteristic pair. There is imbalance in different characteristic pair like IE pair. Different solutions to this problem are stated in below sections."
   ]
  },
  {
   "cell_type": "markdown",
   "metadata": {},
   "source": [
    "# Setup"
   ]
  },
  {
   "cell_type": "markdown",
   "metadata": {},
   "source": [
    "## Helper Methods"
   ]
  },
  {
   "cell_type": "code",
   "execution_count": 1,
   "metadata": {
    "ExecuteTime": {
     "end_time": "2018-04-06T18:46:21.754319Z",
     "start_time": "2018-04-06T18:46:21.734133Z"
    }
   },
   "outputs": [],
   "source": [
    "#printing on single line\n",
    "def printl(msg):\n",
    "    sys.stdout.write(\"\\r\" + str(msg))\n",
    "    sys.stdout.flush()\n",
    "\n",
    "\n",
    "#pickler\n",
    "def save(filepath, obj):\n",
    "    with open(filepath, 'wb') as file:\n",
    "        pickle.dump(obj, file, pickle.HIGHEST_PROTOCOL)\n",
    "\n",
    "\n",
    "#unpickler\n",
    "def load(filepath):\n",
    "    return pickle.load(filepath)"
   ]
  },
  {
   "cell_type": "markdown",
   "metadata": {},
   "source": [
    "## Imports"
   ]
  },
  {
   "cell_type": "code",
   "execution_count": 2,
   "metadata": {
    "ExecuteTime": {
     "end_time": "2018-04-06T18:46:26.417553Z",
     "start_time": "2018-04-06T18:46:21.757793Z"
    }
   },
   "outputs": [],
   "source": [
    "import sys\n",
    "import re\n",
    "import string\n",
    "import pickle\n",
    "import os\n",
    "\n",
    "import numpy as np\n",
    "import pandas as pd\n",
    "import matplotlib.pyplot as plt\n",
    "\n",
    "from nltk.corpus import stopwords\n",
    "from nltk.stem import WordNetLemmatizer\n",
    "from nltk.stem import PorterStemmer\n",
    "\n",
    "from sklearn.feature_extraction.text import CountVectorizer, TfidfTransformer\n",
    "from sklearn.metrics import confusion_matrix, accuracy_score, classification_report, recall_score, f1_score\n",
    "from sklearn.preprocessing import LabelEncoder, OneHotEncoder\n",
    "from sklearn.model_selection import train_test_split, cross_val_score\n",
    "from sklearn.externals import joblib\n",
    "\n",
    "from sklearn.naive_bayes import MultinomialNB\n",
    "from sklearn.ensemble import RandomForestClassifier, ExtraTreesClassifier\n",
    "from sklearn.svm import SVC\n",
    "\n",
    "import tweepy"
   ]
  },
  {
   "cell_type": "markdown",
   "metadata": {},
   "source": [
    "## Loading Dataset\n",
    "I will add one column for each MBTI characteristic pair, since we will be training independent classifier model \n",
    "for each pair independently. The reason for this is because of imbalance present in our dataset. For example posts of \n",
    "introverts are very large as compared to extroverts. To understand and visualize this go to [**EDA**](#EDA-(Exploratory-Data-Analysis&#41;) section."
   ]
  },
  {
   "cell_type": "code",
   "execution_count": 3,
   "metadata": {
    "ExecuteTime": {
     "end_time": "2018-04-06T18:46:32.142890Z",
     "start_time": "2018-04-06T18:46:26.421099Z"
    }
   },
   "outputs": [
    {
     "name": "stdout",
     "output_type": "stream",
     "text": [
      "CPU times: user 4.89 s, sys: 158 ms, total: 5.05 s\n",
      "Wall time: 5.63 s\n"
     ]
    }
   ],
   "source": [
    "%%time\n",
    "df = pd.read_csv('personality-test.csv')\n",
    "df['ie'] = df.type\n",
    "df['ns'] = df.type\n",
    "df['ft'] = df.type\n",
    "df['pj'] = df.type\n",
    "\n",
    "for i, t in enumerate(df.type):\n",
    "    if 'I' in t:\n",
    "        df.ie[i] = 'I'\n",
    "    elif 'E' in t:\n",
    "        df.ie[i] = 'E'\n",
    "        \n",
    "    if 'N' in t:\n",
    "        df.ns[i] = 'N'\n",
    "    elif 'S' in t:\n",
    "        df.ns[i] = 'S'\n",
    "        \n",
    "    if 'F' in t:\n",
    "        df.ft[i] = 'F'\n",
    "    elif 'T' in t:\n",
    "        df.ft[i] = 'T'\n",
    "        \n",
    "    if 'P' in t:\n",
    "        df.pj[i] = 'P'\n",
    "    elif 'J' in t:\n",
    "        df.pj[i] = 'J'\n",
    "\n",
    "\n",
    "posts = df.posts.values\n",
    "yIE = df.ie.values\n",
    "yNS = df.ns.values\n",
    "yFT = df.ft.values\n",
    "yPJ = df.pj.values\n",
    "y = df.type"
   ]
  },
  {
   "cell_type": "markdown",
   "metadata": {},
   "source": [
    "## Preprocessing\n",
    "NOTE: this phase might take some time to execute due to computationaly expensive operations"
   ]
  },
  {
   "cell_type": "code",
   "execution_count": 4,
   "metadata": {
    "ExecuteTime": {
     "end_time": "2018-04-06T18:46:32.399181Z",
     "start_time": "2018-04-06T18:46:32.146330Z"
    }
   },
   "outputs": [],
   "source": [
    "#regular expressions for tokenization\n",
    "regexes = [\n",
    "    #urls\n",
    "    #r'http[s]?://(?:[a-z]|[0-9]|[$-_@.&amp;+]|[!*\\(\\),]|(?:%[0-9a-f][0-9a-f]))+',\n",
    "    \n",
    "    #html\n",
    "    #r'<[^>]+>',\n",
    "    \n",
    "    #punctuation\n",
    "    r'(?:(\\w+)\\'s)',\n",
    "    \n",
    "    r'(?:\\s(\\w+)\\.+\\s)',\n",
    "    r'(?:\\s(\\w+),+\\s)',\n",
    "    r'(?:\\s(\\w+)\\?+\\s)',\n",
    "    r'(?:\\s(\\w+)!+\\s)',\n",
    "    \n",
    "    r'(?:\\'+(\\w+)\\'+)',\n",
    "    r'(?:\"+(\\w+)\"+)',\n",
    "    r'(?:\\[+(\\w+)\\]+)',\n",
    "    r'(?:{+(\\w+)}+)',\n",
    "    r'(?:\\(+(\\w+))',\n",
    "    r'(?:(\\w+)\\)+)',\n",
    "\n",
    "    #words containing numbers & special characters & punctuation\n",
    "    r'(?:(?:(?:[a-zA-Z])*(?:[0-9!\"#$%&\\'()*+,\\-./:;<=>?@\\[\\\\\\]^_`{|}~])+(?:[a-zA-Z])*)+)',\n",
    "    \n",
    "    #pure words\n",
    "    r'([a-zA-Z]+)',\n",
    "    \n",
    "    #numbers\n",
    "    #r'(?:(?:\\d+,?)+(?:\\.?\\d+)?)',\n",
    "\n",
    "    #emoticons\n",
    "    #r\"\"\"(?:[:=;][oO\\-]?[D\\)\\]\\(\\]/\\\\OpP])\"\"\",\n",
    "\n",
    "    #other words\n",
    "    #r'(?:[\\w_]+)',\n",
    "\n",
    "    #anything else\n",
    "    #r'(?:\\S)'\n",
    "]\n",
    "\n",
    "#compiling regular expression\n",
    "regex = re.compile(r'(?:'+'|'.join(regexes)+')', re.VERBOSE | re.IGNORECASE)\n",
    "\n",
    "\n",
    "def preprocess(documents):\n",
    "    lemmatizer = WordNetLemmatizer()\n",
    "    stemmer = PorterStemmer()\n",
    "    \n",
    "    #fetching list of stopwords\n",
    "    punctuation = list(string.punctuation)\n",
    "    swords = stopwords.words('english') + ['amp'] + ['monday', 'tuesday', 'wednesday', 'thursday', 'friday', 'saturday', 'sunday', 'january', 'feburary', 'march', 'april', 'may', 'june', 'july', 'august', 'september', 'october', 'november', 'december',  'mon', 'tue', 'wed', 'thu', 'fri', 'sat', 'sun',  'jan', 'feb', 'mar', 'apr', 'may', 'jun' 'jul', 'aug', 'sep', 'oct', 'nov', 'dec', 'tommorow', 'today', 'yesterday'] + ['mr', 'mrs']\n",
    "\n",
    "\n",
    "    processed_documents = []\n",
    "    for i,document in enumerate(documents):\n",
    "        printl('{0}/{1}'.format(i+1, len(documents)))\n",
    "        \n",
    "        #tokenization\n",
    "        tokens = regex.findall(document)\n",
    "\n",
    "        #skipping useless tokens\n",
    "        t_regex = re.compile(r\"[^a-zA-Z]\")\n",
    "        document = []\n",
    "        \n",
    "        for token in tokens:\n",
    "            token = np.array(token)\n",
    "            token = np.unique(token[token != ''])\n",
    "            \n",
    "            if len(token) > 0:\n",
    "                token = token[0].lower()\n",
    "            else:\n",
    "                continue\n",
    "                \n",
    "            if re.search(t_regex, token) == None and token not in swords:\n",
    "                token = lemmatizer.lemmatize(token)\n",
    "                document.append(token)\n",
    "                \n",
    "        document = ' '.join(document)\n",
    "\n",
    "        #skipping\n",
    "        if len(document) > 0:\n",
    "            processed_documents.append(document)\n",
    "\n",
    "    print()\n",
    "    return np.array(processed_documents)"
   ]
  },
  {
   "cell_type": "code",
   "execution_count": 5,
   "metadata": {
    "ExecuteTime": {
     "end_time": "2018-04-06T18:46:32.418856Z",
     "start_time": "2018-04-06T18:46:32.402911Z"
    }
   },
   "outputs": [
    {
     "name": "stdout",
     "output_type": "stream",
     "text": [
      "CPU times: user 3 µs, sys: 1 µs, total: 4 µs\n",
      "Wall time: 7.87 µs\n"
     ]
    }
   ],
   "source": [
    "%%time\n",
    "# posts = preprocess(posts)"
   ]
  },
  {
   "cell_type": "markdown",
   "metadata": {},
   "source": [
    "# Processing"
   ]
  },
  {
   "cell_type": "markdown",
   "metadata": {},
   "source": [
    "I am only using document matrix, using TF-IDF weighing scheme will actually result in model's performance degradation. I think the reason is because our document are relatively small in nature due to small size nature of tweets."
   ]
  },
  {
   "cell_type": "code",
   "execution_count": 6,
   "metadata": {
    "ExecuteTime": {
     "end_time": "2018-04-06T18:46:54.932980Z",
     "start_time": "2018-04-06T18:46:32.422438Z"
    }
   },
   "outputs": [
    {
     "name": "stdout",
     "output_type": "stream",
     "text": [
      "CPU times: user 21.5 s, sys: 395 ms, total: 21.9 s\n",
      "Wall time: 22.5 s\n"
     ]
    }
   ],
   "source": [
    "%%time\n",
    "# creating document frequency matrix\n",
    "cv = CountVectorizer().fit(posts)\n",
    "X = cv.transform(posts)"
   ]
  },
  {
   "cell_type": "markdown",
   "metadata": {},
   "source": [
    "### Splitting Dataset"
   ]
  },
  {
   "cell_type": "code",
   "execution_count": 7,
   "metadata": {
    "ExecuteTime": {
     "end_time": "2018-04-06T18:46:55.694833Z",
     "start_time": "2018-04-06T18:46:54.936135Z"
    }
   },
   "outputs": [],
   "source": [
    "# splitting dataset into training and testing dataset\n",
    "xIETrain, xIETest, yIETrain, yIETest = train_test_split(X, yIE)\n",
    "xNSTrain, xNSTest, yNSTrain, yNSTest = train_test_split(X, yNS)\n",
    "xFTTrain, xFTTest, yFTTrain, yFTTest = train_test_split(X, yFT)\n",
    "xPJTrain, xPJTest, yPJTrain, yPJTest = train_test_split(X, yPJ)\n",
    "xTrain, xTest, yTrain, yTest = train_test_split(X, y)"
   ]
  },
  {
   "cell_type": "markdown",
   "metadata": {},
   "source": [
    "# EDA (Exploratory Data Analysis)"
   ]
  },
  {
   "cell_type": "markdown",
   "metadata": {},
   "source": [
    "As we can see that our dataset has disproportionate data. Due to this **heavy unbalance** in our dataset we will\n",
    "be training our classifiers independently for each characteristic pair. This unbalance makes it very difficult \n",
    "to work with different algorithms, specially probability based models. To look at this, refer to cells below in this section. For analysing the effect of this balance in machine learning algorithms using conventional approaches look at [result analysis section](#Analysing-our-Models-Results).\n",
    "\n",
    "This problem is called **Imbalanced Classification Problem**. Generally there are two approaches to tackle this kind of problem:\n",
    "* **Sampling**<br>\n",
    "    There are different sampling techniques to tackle this problem, we will be discussing few of them.\n",
    "    * *Random Sampling*\n",
    "    * *SMOTE*\n",
    "    * *Modified SMOTE*\n",
    "* **Ensemble Methods**\n",
    "\n",
    "I will be using type of *random sampling* technique called **undersampling**, In this approach we will randomly remove our sample instances from majority class until the size of majority class instances are equal to minority class instances."
   ]
  },
  {
   "cell_type": "code",
   "execution_count": 8,
   "metadata": {
    "ExecuteTime": {
     "end_time": "2018-04-06T18:46:56.364334Z",
     "start_time": "2018-04-06T18:46:55.697058Z"
    }
   },
   "outputs": [
    {
     "name": "stdout",
     "output_type": "stream",
     "text": [
      "INFP    1832\n",
      "INFJ    1470\n",
      "INTP    1304\n",
      "INTJ    1091\n",
      "ENTP     685\n",
      "ENFP     675\n",
      "ISTP     337\n",
      "ISFP     271\n",
      "ENTJ     231\n",
      "ISTJ     205\n",
      "ENFJ     190\n",
      "ISFJ     166\n",
      "ESTP      89\n",
      "ESFP      48\n",
      "ESFJ      42\n",
      "ESTJ      39\n",
      "Name: type, dtype: int64\n"
     ]
    },
    {
     "data": {
      "image/png": "[encoded data removed]",
      "text/plain": [
       "<matplotlib.figure.Figure at 0x1a0d725cf8>"
      ]
     },
     "metadata": {},
     "output_type": "display_data"
    }
   ],
   "source": [
    "print(df.type.value_counts())\n",
    "df.type.hist(xrot=90)\n",
    "plt.show()"
   ]
  },
  {
   "cell_type": "markdown",
   "metadata": {},
   "source": [
    "In cell below we can see that there is great **unbalance** in **Introvert/Extrovert** and **Intuition/Sensing** pairs. Whereas **Feeling/Thinking** and **Perception/Judgment** pairs are quite *balanced*. Although I have created trained models for each pair. Only last 2 pairs are somewhat reliable in predicting MBTI type. So it is\n",
    "not advised to depend on first 2 pairs i.e. **IE** and **NS** pairs. For analysis of results of various trained models is present below in [result analysis section](#Analysing-our-Models-Results)"
   ]
  },
  {
   "cell_type": "code",
   "execution_count": 9,
   "metadata": {
    "ExecuteTime": {
     "end_time": "2018-04-06T18:46:57.071416Z",
     "start_time": "2018-04-06T18:46:56.368635Z"
    }
   },
   "outputs": [
    {
     "name": "stdout",
     "output_type": "stream",
     "text": [
      "I    6676\n",
      "E    1999\n",
      "Name: ie, dtype: int64\n",
      "\n",
      "N    7478\n",
      "S    1197\n",
      "Name: ns, dtype: int64\n",
      "\n",
      "F    4694\n",
      "T    3981\n",
      "Name: ft, dtype: int64\n",
      "\n",
      "P    5241\n",
      "J    3434\n",
      "Name: pj, dtype: int64\n",
      "\n"
     ]
    },
    {
     "data": {
      "image/png": "[encoded data removed]",
      "text/plain": [
       "<matplotlib.figure.Figure at 0x1a0d76f780>"
      ]
     },
     "metadata": {},
     "output_type": "display_data"
    },
    {
     "data": {
      "image/png": "[encoded data removed]",
      "text/plain": [
       "<matplotlib.figure.Figure at 0x1077418d0>"
      ]
     },
     "metadata": {},
     "output_type": "display_data"
    },
    {
     "data": {
      "image/png": "[encoded data removed]",
      "text/plain": [
       "<matplotlib.figure.Figure at 0x1a0cc71e80>"
      ]
     },
     "metadata": {},
     "output_type": "display_data"
    },
    {
     "data": {
      "image/png": "[encoded data removed]",
      "text/plain": [
       "<matplotlib.figure.Figure at 0x1a0cbed3c8>"
      ]
     },
     "metadata": {},
     "output_type": "display_data"
    }
   ],
   "source": [
    "print(df.ie.value_counts(), end='\\n\\n')\n",
    "print(df.ns.value_counts(), end='\\n\\n')\n",
    "print(df.ft.value_counts(), end='\\n\\n')\n",
    "print(df.pj.value_counts(), end='\\n\\n')\n",
    "\n",
    "df.ie.hist(); plt.show()\n",
    "df.ns.hist(); plt.show()\n",
    "df.ft.hist(); plt.show()\n",
    "df.pj.hist(); plt.show()"
   ]
  },
  {
   "cell_type": "markdown",
   "metadata": {},
   "source": [
    "# Modelling"
   ]
  },
  {
   "cell_type": "markdown",
   "metadata": {},
   "source": [
    "### Training our Models"
   ]
  },
  {
   "cell_type": "code",
   "execution_count": 10,
   "metadata": {
    "ExecuteTime": {
     "end_time": "2018-04-06T18:46:57.741705Z",
     "start_time": "2018-04-06T18:46:57.074448Z"
    }
   },
   "outputs": [
    {
     "name": "stdout",
     "output_type": "stream",
     "text": [
      "CPU times: user 251 ms, sys: 58.7 ms, total: 310 ms\n",
      "Wall time: 345 ms\n",
      "CPU times: user 61.6 ms, sys: 17.1 ms, total: 78.6 ms\n",
      "Wall time: 81.5 ms\n",
      "CPU times: user 57.3 ms, sys: 8.2 ms, total: 65.5 ms\n",
      "Wall time: 66.8 ms\n",
      "CPU times: user 64.7 ms, sys: 10 ms, total: 74.7 ms\n",
      "Wall time: 75.8 ms\n",
      "CPU times: user 58.8 ms, sys: 11.8 ms, total: 70.5 ms\n",
      "Wall time: 82.8 ms\n",
      "CPU times: user 499 ms, sys: 107 ms, total: 606 ms\n",
      "Wall time: 659 ms\n"
     ]
    }
   ],
   "source": [
    "%%time\n",
    "%time model = MultinomialNB().fit(xTrain, yTrain)\n",
    "%time ieModel = MultinomialNB().fit(xIETrain, yIETrain)\n",
    "%time nsModel = MultinomialNB().fit(xNSTrain, yNSTrain)\n",
    "%time ftModel = MultinomialNB().fit(xFTTrain, yFTTrain)\n",
    "%time pjModel = MultinomialNB().fit(xPJTrain, yPJTrain)"
   ]
  },
  {
   "cell_type": "markdown",
   "metadata": {},
   "source": [
    "### Testing our Models"
   ]
  },
  {
   "cell_type": "markdown",
   "metadata": {},
   "source": [
    "As we can see our models performed relatively well despite the weaknesses present in our dataset. Although this accuracy is **superficial** in the cases of first 2 models i.e. **IE** and **NS**. The reason being that these are heavily biased towards a single characteristic value. This will be evident in [result analysis section](#Analysing-our-Models-Results) below.\n",
    "Our accuracy is just high because our most of data is belonging to one instance. Introvert for example in IE model."
   ]
  },
  {
   "cell_type": "code",
   "execution_count": 11,
   "metadata": {
    "ExecuteTime": {
     "end_time": "2018-04-06T18:46:57.940134Z",
     "start_time": "2018-04-06T18:46:57.745911Z"
    }
   },
   "outputs": [
    {
     "name": "stdout",
     "output_type": "stream",
     "text": [
      "0.345320424159\n",
      "0.787920700784\n",
      "0.833102812356\n",
      "0.792992162287\n",
      "0.713692946058\n"
     ]
    }
   ],
   "source": [
    "print(model.score(xTest, yTest))\n",
    "print(ieModel.score(xIETest, yIETest))\n",
    "print(nsModel.score(xNSTest, yNSTest))\n",
    "print(ftModel.score(xFTTest, yFTTest))\n",
    "print(pjModel.score(xPJTest, yPJTest))"
   ]
  },
  {
   "cell_type": "markdown",
   "metadata": {},
   "source": [
    "Instead of accuracy, which is a bad metric for imbalance dataset, we will be using **recall** and **f1 score**, to measure our model performance."
   ]
  },
  {
   "cell_type": "code",
   "execution_count": 57,
   "metadata": {
    "ExecuteTime": {
     "end_time": "2018-04-06T19:18:40.409649Z",
     "start_time": "2018-04-06T19:18:40.007886Z"
    }
   },
   "outputs": [
    {
     "name": "stdout",
     "output_type": "stream",
     "text": [
      "MINORITY CLASSES:\n",
      "0.157464212679\n",
      "0.0838709677419\n",
      "0.717346938776\n",
      "0.469150174622\n",
      "\n",
      "MAJORITY CLASSES:\n",
      "0.971428571429\n",
      "0.958041958042\n",
      "0.855340622372\n",
      "0.874045801527\n"
     ]
    }
   ],
   "source": [
    "#minority classes\n",
    "print('MINORITY CLASSES:')\n",
    "print(recall_score(yIETest, ieModel.predict(xIETest), pos_label='E'))\n",
    "print(recall_score(yNSTest, nsModel.predict(xNSTest), pos_label='S'))\n",
    "print(recall_score(yFTTest, ftModel.predict(xFTTest), pos_label='T'))\n",
    "print(recall_score(yPJTest, pjModel.predict(xPJTest), pos_label='J'), end='\\n\\n')\n",
    "\n",
    "#majority classes\n",
    "print('MAJORITY CLASSES:')\n",
    "print(recall_score(yIETest, ieModel.predict(xIETest), pos_label='I'))\n",
    "print(recall_score(yNSTest, nsModel.predict(xNSTest), pos_label='N'))\n",
    "print(recall_score(yFTTest, ftModel.predict(xFTTest), pos_label='F'))\n",
    "print(recall_score(yPJTest, pjModel.predict(xPJTest), pos_label='P'))"
   ]
  },
  {
   "cell_type": "code",
   "execution_count": 58,
   "metadata": {
    "ExecuteTime": {
     "end_time": "2018-04-06T19:19:00.861521Z",
     "start_time": "2018-04-06T19:19:00.434506Z"
    }
   },
   "outputs": [
    {
     "name": "stdout",
     "output_type": "stream",
     "text": [
      "MINORITY CLASSES:\n",
      "0.250814332248\n",
      "0.125603864734\n",
      "0.75795148248\n",
      "0.564821303434\n",
      "\n",
      "MAJORITY CLASSES:\n",
      "0.876476906552\n",
      "0.907747196738\n",
      "0.819170358437\n",
      "0.786671246994\n"
     ]
    }
   ],
   "source": [
    "#minority classes\n",
    "print('MINORITY CLASSES:')\n",
    "print(f1_score(yIETest, ieModel.predict(xIETest), pos_label='E'))\n",
    "print(f1_score(yNSTest, nsModel.predict(xNSTest), pos_label='S'))\n",
    "print(f1_score(yFTTest, ftModel.predict(xFTTest), pos_label='T'))\n",
    "print(f1_score(yPJTest, pjModel.predict(xPJTest), pos_label='J'), end='\\n\\n')\n",
    "\n",
    "#majority classes\n",
    "print('MAJORITY CLASSES:')\n",
    "print(f1_score(yIETest, ieModel.predict(xIETest), pos_label='I'))\n",
    "print(f1_score(yNSTest, nsModel.predict(xNSTest), pos_label='N'))\n",
    "print(f1_score(yFTTest, ftModel.predict(xFTTest), pos_label='F'))\n",
    "print(f1_score(yPJTest, pjModel.predict(xPJTest), pos_label='P'))"
   ]
  },
  {
   "cell_type": "markdown",
   "metadata": {},
   "source": [
    "For better analysis or testing of our model, we will be using classification report to see **recall** which is measure of how much right predictions we make per characteristic. *Accuracy* is bad *classification metric* in our case due to **imbalanced classification problem**. Recall will give us better insight."
   ]
  },
  {
   "cell_type": "code",
   "execution_count": 13,
   "metadata": {
    "ExecuteTime": {
     "end_time": "2018-04-06T18:48:48.986338Z",
     "start_time": "2018-04-06T18:48:48.891359Z"
    }
   },
   "outputs": [
    {
     "name": "stdout",
     "output_type": "stream",
     "text": [
      "             precision    recall  f1-score   support\n",
      "\n",
      "       ENFJ       0.00      0.00      0.00        50\n",
      "       ENFP       0.50      0.01      0.02       160\n",
      "       ENTJ       0.00      0.00      0.00        55\n",
      "       ENTP       0.40      0.01      0.02       159\n",
      "       ESFJ       0.00      0.00      0.00         9\n",
      "       ESFP       0.00      0.00      0.00        12\n",
      "       ESTJ       0.00      0.00      0.00        12\n",
      "       ESTP       0.00      0.00      0.00        23\n",
      "       INFJ       0.37      0.43      0.40       378\n",
      "       INFP       0.30      0.89      0.45       459\n",
      "       INTJ       0.71      0.11      0.20       283\n",
      "       INTP       0.45      0.43      0.44       328\n",
      "       ISFJ       0.00      0.00      0.00        37\n",
      "       ISFP       0.00      0.00      0.00        73\n",
      "       ISTJ       0.00      0.00      0.00        45\n",
      "       ISTP       0.00      0.00      0.00        86\n",
      "\n",
      "avg / total       0.35      0.35      0.26      2169\n",
      "\n",
      "\n"
     ]
    },
    {
     "name": "stderr",
     "output_type": "stream",
     "text": [
      "/Users/jaat/anaconda3/lib/python3.6/site-packages/sklearn/metrics/classification.py:1135: UndefinedMetricWarning: Precision and F-score are ill-defined and being set to 0.0 in labels with no predicted samples.\n",
      "  'precision', 'predicted', average, warn_for)\n"
     ]
    }
   ],
   "source": [
    "print(classification_report(yTest, model.predict(xTest)), end='\\n\\n')"
   ]
  },
  {
   "cell_type": "markdown",
   "metadata": {},
   "source": [
    "As it can be seen for first 2 pairs ie **IE** and **NS** the *recall* score is very low for minority classes. In first pair the recall score for \"extroverts\" is **0.13** which is amazingly bad."
   ]
  },
  {
   "cell_type": "code",
   "execution_count": 14,
   "metadata": {
    "ExecuteTime": {
     "end_time": "2018-04-06T18:48:51.516984Z",
     "start_time": "2018-04-06T18:48:51.366138Z"
    }
   },
   "outputs": [
    {
     "name": "stdout",
     "output_type": "stream",
     "text": [
      "             precision    recall  f1-score   support\n",
      "\n",
      "          E       0.62      0.16      0.25       489\n",
      "          I       0.80      0.97      0.88      1680\n",
      "\n",
      "avg / total       0.76      0.79      0.74      2169\n",
      "\n",
      "\n",
      "             precision    recall  f1-score   support\n",
      "\n",
      "          N       0.86      0.96      0.91      1859\n",
      "          S       0.25      0.08      0.13       310\n",
      "\n",
      "avg / total       0.77      0.83      0.80      2169\n",
      "\n",
      "\n",
      "             precision    recall  f1-score   support\n",
      "\n",
      "          F       0.79      0.86      0.82      1189\n",
      "          T       0.80      0.72      0.76       980\n",
      "\n",
      "avg / total       0.79      0.79      0.79      2169\n",
      "\n",
      "\n",
      "             precision    recall  f1-score   support\n",
      "\n",
      "          J       0.71      0.47      0.56       859\n",
      "          P       0.72      0.87      0.79      1310\n",
      "\n",
      "avg / total       0.71      0.71      0.70      2169\n",
      "\n",
      "\n"
     ]
    }
   ],
   "source": [
    "print(classification_report(yIETest, ieModel.predict(xIETest)), end='\\n\\n')\n",
    "print(classification_report(yNSTest, nsModel.predict(xNSTest)), end='\\n\\n')\n",
    "print(classification_report(yFTTest, ftModel.predict(xFTTest)), end='\\n\\n')\n",
    "print(classification_report(yPJTest, pjModel.predict(xPJTest)), end='\\n\\n')"
   ]
  },
  {
   "cell_type": "markdown",
   "metadata": {},
   "source": [
    "### Cross Validation"
   ]
  },
  {
   "cell_type": "markdown",
   "metadata": {},
   "source": [
    "To get actual performance of our models, I am using **KFold cross validation** with *k=10* to get actual performance. These values will be **pickled** along with models, so that these can be used in scripts to allow users to see\n",
    "performance and reliability of each model corresponding to their characteristic pair."
   ]
  },
  {
   "cell_type": "code",
   "execution_count": 38,
   "metadata": {
    "ExecuteTime": {
     "end_time": "2018-04-06T19:11:48.277494Z",
     "start_time": "2018-04-06T19:11:34.124013Z"
    }
   },
   "outputs": [
    {
     "name": "stdout",
     "output_type": "stream",
     "text": [
      "0.376724638516\n",
      "0.0118203235415\n",
      "\n",
      "0.952665658189\n",
      "0.0105624310118\n",
      "\n",
      "0.119474789916\n",
      "0.0278256538239\n",
      "\n",
      "0.742022140779\n",
      "0.0161272773425\n",
      "\n",
      "0.857852780807\n",
      "0.00990676530416\n",
      "\n"
     ]
    }
   ],
   "source": [
    "scores = []\n",
    "\n",
    "scores.append(cross_val_score(estimator=model, cv=10, X=X, y=y, scoring='accuracy'))\n",
    "scores.append(cross_val_score(estimator=ieModel, cv=10, X=X, y=LabelEncoder().fit_transform(yIE), scoring='recall'))\n",
    "scores.append(cross_val_score(estimator=nsModel, cv=10, X=X, y=LabelEncoder().fit_transform(yNS), scoring='recall'))\n",
    "scores.append(cross_val_score(estimator=ftModel, cv=10, X=X, y=LabelEncoder().fit_transform(yFT), scoring='recall'))\n",
    "scores.append(cross_val_score(estimator=pjModel, cv=10, X=X, y=LabelEncoder().fit_transform(yPJ), scoring='recall'))\n",
    "\n",
    "#prining mean and standard deviations for each model\n",
    "for score in scores:\n",
    "    print(score.mean())\n",
    "    print(score.std(), end='\\n\\n')"
   ]
  },
  {
   "cell_type": "markdown",
   "metadata": {},
   "source": [
    "### Analysing our Models Results"
   ]
  },
  {
   "cell_type": "markdown",
   "metadata": {},
   "source": [
    "In case of this model where we are predicting MBTI type using all characteristics together. It can be seen heavy bias in results of trained model."
   ]
  },
  {
   "cell_type": "code",
   "execution_count": 21,
   "metadata": {
    "ExecuteTime": {
     "end_time": "2018-04-06T18:49:38.960722Z",
     "start_time": "2018-04-06T18:49:38.527257Z"
    }
   },
   "outputs": [
    {
     "name": "stdout",
     "output_type": "stream",
     "text": [
      "INFP    459\n",
      "INFJ    378\n",
      "INTP    328\n",
      "INTJ    283\n",
      "ENFP    160\n",
      "ENTP    159\n",
      "ISTP     86\n",
      "ISFP     73\n",
      "ENTJ     55\n",
      "ENFJ     50\n",
      "ISTJ     45\n",
      "ISFJ     37\n",
      "ESTP     23\n",
      "ESTJ     12\n",
      "ESFP     12\n",
      "ESFJ      9\n",
      "Name: type, dtype: int64\n",
      "\n",
      "INFP    1358\n",
      "INFJ     446\n",
      "INTP     311\n",
      "INTJ      45\n",
      "ENTP       5\n",
      "ENFP       4\n",
      "dtype: int64\n"
     ]
    },
    {
     "data": {
      "image/png": "[encoded data removed]",
      "text/plain": [
       "<matplotlib.figure.Figure at 0x1a0d714f28>"
      ]
     },
     "metadata": {},
     "output_type": "display_data"
    }
   ],
   "source": [
    "print(pd.Series(yTest).value_counts(), end='\\n\\n')\n",
    "print(pd.Series(model.predict(xTest)).value_counts())\n",
    "\n",
    "pd.Series(yTest).hist(xrot=90, alpha=0.7)\n",
    "pd.Series(model.predict(xTest)).hist(xrot=90, alpha=0.7)\n",
    "plt.show()"
   ]
  },
  {
   "cell_type": "markdown",
   "metadata": {},
   "source": [
    "In next 2 models ie **IE** and **NS** models we can see that class distribution is heavily biased, this accounts for high accuracy in our results for these specific models."
   ]
  },
  {
   "cell_type": "code",
   "execution_count": 22,
   "metadata": {
    "ExecuteTime": {
     "end_time": "2018-04-06T18:49:49.872975Z",
     "start_time": "2018-04-06T18:49:49.524188Z"
    }
   },
   "outputs": [
    {
     "name": "stdout",
     "output_type": "stream",
     "text": [
      "I    1680\n",
      "E     489\n",
      "dtype: int64\n",
      "\n",
      "I    2044\n",
      "E     125\n",
      "dtype: int64\n",
      "\n",
      "             precision    recall  f1-score   support\n",
      "\n",
      "          E       0.62      0.16      0.25       489\n",
      "          I       0.80      0.97      0.88      1680\n",
      "\n",
      "avg / total       0.76      0.79      0.74      2169\n",
      "\n"
     ]
    },
    {
     "data": {
      "image/png": "[encoded data removed]",
      "text/plain": [
       "<matplotlib.figure.Figure at 0x1a0d29e1d0>"
      ]
     },
     "metadata": {},
     "output_type": "display_data"
    }
   ],
   "source": [
    "print(pd.Series(yIETest).value_counts(), end='\\n\\n')\n",
    "print(pd.Series(ieModel.predict(xIETest)).value_counts(), end='\\n\\n')\n",
    "print(classification_report(y_pred=ieModel.predict(xIETest), y_true=yIETest))\n",
    "\n",
    "pd.Series(yIETest).hist(alpha=0.7)\n",
    "pd.Series(ieModel.predict(xIETest)).hist(alpha=0.7)\n",
    "plt.show()"
   ]
  },
  {
   "cell_type": "code",
   "execution_count": 23,
   "metadata": {
    "ExecuteTime": {
     "end_time": "2018-04-06T18:49:52.796423Z",
     "start_time": "2018-04-06T18:49:52.523698Z"
    }
   },
   "outputs": [
    {
     "name": "stdout",
     "output_type": "stream",
     "text": [
      "N    1859\n",
      "S     310\n",
      "dtype: int64\n",
      "\n",
      "N    2065\n",
      "S     104\n",
      "dtype: int64\n"
     ]
    },
    {
     "data": {
      "image/png": "[encoded data removed]",
      "text/plain": [
       "<matplotlib.figure.Figure at 0x1a0cc41a20>"
      ]
     },
     "metadata": {},
     "output_type": "display_data"
    }
   ],
   "source": [
    "print(pd.Series(yNSTest).value_counts(), end='\\n\\n')\n",
    "print(pd.Series(nsModel.predict(xNSTest)).value_counts())\n",
    "\n",
    "pd.Series(yNSTest).hist(alpha=0.7)\n",
    "pd.Series(nsModel.predict(xNSTest)).hist(alpha=0.7)\n",
    "plt.show()"
   ]
  },
  {
   "cell_type": "code",
   "execution_count": 24,
   "metadata": {
    "ExecuteTime": {
     "end_time": "2018-04-06T18:49:55.585675Z",
     "start_time": "2018-04-06T18:49:55.390701Z"
    }
   },
   "outputs": [
    {
     "name": "stdout",
     "output_type": "stream",
     "text": [
      "F    1189\n",
      "T     980\n",
      "dtype: int64\n",
      "\n",
      "F    1294\n",
      "T     875\n",
      "dtype: int64\n"
     ]
    },
    {
     "data": {
      "image/png": "[encoded data removed]",
      "text/plain": [
       "<matplotlib.figure.Figure at 0x1a0d7dbbe0>"
      ]
     },
     "metadata": {},
     "output_type": "display_data"
    }
   ],
   "source": [
    "print(pd.Series(yFTTest).value_counts(), end='\\n\\n')\n",
    "print(pd.Series(ftModel.predict(xFTTest)).value_counts())\n",
    "\n",
    "pd.Series(yFTTest).hist(alpha=0.7)\n",
    "pd.Series(ftModel.predict(xFTTest)).hist(alpha=0.7)\n",
    "plt.show()"
   ]
  },
  {
   "cell_type": "code",
   "execution_count": 25,
   "metadata": {
    "ExecuteTime": {
     "end_time": "2018-04-06T18:49:58.544826Z",
     "start_time": "2018-04-06T18:49:58.275451Z"
    }
   },
   "outputs": [
    {
     "name": "stdout",
     "output_type": "stream",
     "text": [
      "P    1310\n",
      "J     859\n",
      "dtype: int64\n",
      "\n",
      "P    1601\n",
      "J     568\n",
      "dtype: int64\n"
     ]
    },
    {
     "data": {
      "image/png": "[encoded data removed]",
      "text/plain": [
       "<matplotlib.figure.Figure at 0x1a0d04c390>"
      ]
     },
     "metadata": {},
     "output_type": "display_data"
    }
   ],
   "source": [
    "print(pd.Series(yPJTest).value_counts(), end='\\n\\n')\n",
    "print(pd.Series(pjModel.predict(xPJTest)).value_counts())\n",
    "\n",
    "pd.Series(yPJTest).hist(alpha=0.7)\n",
    "pd.Series(pjModel.predict(xPJTest)).hist(alpha=0.7)\n",
    "plt.show()"
   ]
  },
  {
   "cell_type": "markdown",
   "metadata": {},
   "source": [
    "### Pickling our Models"
   ]
  },
  {
   "cell_type": "code",
   "execution_count": null,
   "metadata": {
    "ExecuteTime": {
     "end_time": "2018-04-06T18:46:58.395812Z",
     "start_time": "2018-04-06T18:46:21.852Z"
    }
   },
   "outputs": [],
   "source": [
    "models = {\n",
    "    'models': [model, ieModel, nsModel, ftModel, pjModel],\n",
    "    'accuracies': accuracies,\n",
    "    'usable': [False, False, False, True, True]\n",
    "}\n",
    "joblib.dump(models, 'models.pkl')"
   ]
  },
  {
   "cell_type": "markdown",
   "metadata": {},
   "source": [
    "# Twitter"
   ]
  },
  {
   "cell_type": "code",
   "execution_count": 17,
   "metadata": {
    "ExecuteTime": {
     "end_time": "2018-04-06T18:49:17.192813Z",
     "start_time": "2018-04-06T18:49:17.178689Z"
    }
   },
   "outputs": [],
   "source": [
    "CONSUMER_KEY        = os.environ['TWITTER_CONSUMER_KEY']\n",
    "CONSUMER_SECRET     = os.environ['TWITTER_CONSUMER_SECRET']\n",
    "ACCESS_TOKEN        = os.environ['TWITTER_ACCESS_TOKEN']\n",
    "ACCESS_TOKEN_SECRET = os.environ['TWITTER_ACCESS_TOKEN_SECRET']\n",
    "\n",
    "AUTH = tweepy.OAuthHandler(CONSUMER_KEY, CONSUMER_SECRET)\n",
    "AUTH.set_access_token(ACCESS_TOKEN, ACCESS_TOKEN_SECRET)\n",
    "\n",
    "api = tweepy.API(AUTH)"
   ]
  },
  {
   "cell_type": "markdown",
   "metadata": {},
   "source": [
    "# Bootstrapping"
   ]
  },
  {
   "cell_type": "markdown",
   "metadata": {},
   "source": [
    "### Fetching Tweets\n",
    "The username is the twitter handle of the target user without \"@\""
   ]
  },
  {
   "cell_type": "code",
   "execution_count": 18,
   "metadata": {
    "ExecuteTime": {
     "end_time": "2018-04-06T18:49:24.088438Z",
     "start_time": "2018-04-06T18:49:21.173684Z"
    }
   },
   "outputs": [],
   "source": [
    "#getting user tweets\n",
    "tweets = api.user_timeline('narendramodi', count=200)\n",
    "tweets = [tweet.text for tweet in tweets]"
   ]
  },
  {
   "cell_type": "markdown",
   "metadata": {},
   "source": [
    "### Procsssing Tweets"
   ]
  },
  {
   "cell_type": "code",
   "execution_count": 19,
   "metadata": {
    "ExecuteTime": {
     "end_time": "2018-04-06T18:49:26.777882Z",
     "start_time": "2018-04-06T18:49:26.767172Z"
    }
   },
   "outputs": [],
   "source": [
    "document = cv.transform([' '.join(tweets)])"
   ]
  },
  {
   "cell_type": "markdown",
   "metadata": {
    "ExecuteTime": {
     "end_time": "2018-04-05T08:10:21.460236Z",
     "start_time": "2018-04-05T08:10:21.455000Z"
    }
   },
   "source": [
    "### Predicting MBTI Personality"
   ]
  },
  {
   "cell_type": "code",
   "execution_count": 20,
   "metadata": {
    "ExecuteTime": {
     "end_time": "2018-04-06T18:49:29.172410Z",
     "start_time": "2018-04-06T18:49:29.154785Z"
    }
   },
   "outputs": [
    {
     "name": "stdout",
     "output_type": "stream",
     "text": [
      "['I']\n",
      "['N']\n",
      "['T']\n",
      "['J']\n"
     ]
    }
   ],
   "source": [
    "print(ieModel.predict(document))\n",
    "print(nsModel.predict(document))\n",
    "print(ftModel.predict(document))\n",
    "print(pjModel.predict(document))"
   ]
  }
 ],
 "metadata": {
  "kernelspec": {
   "display_name": "Python 3",
   "language": "python",
   "name": "python3"
  },
  "language_info": {
   "codemirror_mode": {
    "name": "ipython",
    "version": 3
   },
   "file_extension": ".py",
   "mimetype": "text/x-python",
   "name": "python",
   "nbconvert_exporter": "python",
   "pygments_lexer": "ipython3",
   "version": "3.6.3"
  },
  "notify_time": "5",
  "toc": {
   "nav_menu": {},
   "number_sections": true,
   "sideBar": true,
   "skip_h1_title": false,
   "toc_cell": false,
   "toc_position": {},
   "toc_section_display": "block",
   "toc_window_display": false
  },
  "varInspector": {
   "cols": {
    "lenName": 16,
    "lenType": 16,
    "lenVar": 40
   },
   "kernels_config": {
    "python": {
     "delete_cmd_postfix": "",
     "delete_cmd_prefix": "del ",
     "library": "var_list.py",
     "varRefreshCmd": "print(var_dic_list())"
    },
    "r": {
     "delete_cmd_postfix": ") ",
     "delete_cmd_prefix": "rm(",
     "library": "var_list.r",
     "varRefreshCmd": "cat(var_dic_list()) "
    }
   },
   "position": {
    "height": "433px",
    "left": "1070px",
    "right": "20px",
    "top": "120px",
    "width": "357px"
   },
   "types_to_exclude": [
    "module",
    "function",
    "builtin_function_or_method",
    "instance",
    "_Feature"
   ],
   "window_display": false
  }
 },
 "nbformat": 4,
 "nbformat_minor": 2
}
